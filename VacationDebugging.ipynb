{
 "cells": [
  {
   "cell_type": "code",
   "execution_count": 1,
   "metadata": {},
   "outputs": [
    {
     "name": "stdout",
     "output_type": "stream",
     "text": [
      "{'results': [{'datasource': {'sourcename': 'openstreetmap', 'attribution': '© OpenStreetMap contributors', 'license': 'Open Database License', 'url': 'https://www.openstreetmap.org/copyright'}, 'name': 'Highland Knolls Drive', 'country': 'United States', 'country_code': 'us', 'state': 'Texas', 'county': 'Harris County', 'postcode': '77450', 'district': 'Memorial Parkway', 'street': 'Highland Knolls Drive', 'lon': -95.7480061, 'lat': 29.7590682, 'state_code': 'TX', 'housenumber': '21720', 'result_type': 'building', 'city': 'Katy', 'formatted': '21720 Highland Knolls Drive, Katy, TX 77450, United States of America', 'address_line1': '21720 Highland Knolls Drive', 'address_line2': 'Katy, TX 77450, United States of America', 'timezone': {'name': 'America/Chicago', 'offset_STD': '-06:00', 'offset_STD_seconds': -21600, 'offset_DST': '-05:00', 'offset_DST_seconds': -18000, 'abbreviation_STD': 'CST', 'abbreviation_DST': 'CDT'}, 'plus_code': '76X6Q752+JQ', 'plus_code_short': 'Q752+JQ Katy, Harris County, United States', 'rank': {'importance': 0.35334333333333334, 'popularity': 3.7649928705479243, 'confidence': 1, 'confidence_city_level': 1, 'confidence_street_level': 1, 'confidence_building_level': 1, 'match_type': 'full_match'}, 'place_id': '51582dfa54dfef57c059006f264b52c23d40c00203920315486967686c616e64204b6e6f6c6c73204472697665e203266f70656e6164647265737365733a616464726573733a30333762396665333534393965363463', 'bbox': {'lon1': -95.7385758, 'lat1': 29.7592644, 'lon2': -95.738231, 'lat2': 29.759331}}], 'query': {'text': '21720 Highland Knolls Drive. Katy Texas 77450', 'parsed': {'housenumber': '21720', 'street': 'highland knolls drive.', 'postcode': '77450', 'city': 'katy', 'state': 'texas', 'expected_type': 'building'}}}\n",
      "200\n"
     ]
    }
   ],
   "source": [
    "import requests \n",
    "import json\n",
    "\n",
    "# from api_keys import weather_api_key    # import the api key from api_keys.py\n",
    "\n",
    "test_geoapifi_key = \"0ad1012f252540a58feb1ad0858db32d\" #This is Geoapify API key #3\n",
    "\n",
    "test_url = \"https://api.geoapify.com/v1/geocode/search?text=21720%20Highland%20Knolls%20Drive.%20Katy%20Texas%2077450&format=json&apiKey=0ad1012f252540a58feb1ad0858db32d\"\n",
    "\n",
    "\n",
    "\n",
    "test_response = requests.get(test_url)\n",
    "print(test_response.json())\n",
    "\n",
    "print(test_response.status_code)"
   ]
  },
  {
   "cell_type": "code",
   "execution_count": null,
   "metadata": {},
   "outputs": [],
   "source": []
  }
 ],
 "metadata": {
  "kernelspec": {
   "display_name": "base",
   "language": "python",
   "name": "python3"
  },
  "language_info": {
   "codemirror_mode": {
    "name": "ipython",
    "version": 3
   },
   "file_extension": ".py",
   "mimetype": "text/x-python",
   "name": "python",
   "nbconvert_exporter": "python",
   "pygments_lexer": "ipython3",
   "version": "3.12.7"
  }
 },
 "nbformat": 4,
 "nbformat_minor": 2
}
