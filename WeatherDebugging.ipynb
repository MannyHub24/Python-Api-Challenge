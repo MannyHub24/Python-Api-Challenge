{
 "cells": [
  {
   "cell_type": "code",
   "execution_count": 1,
   "metadata": {},
   "outputs": [
    {
     "name": "stdout",
     "output_type": "stream",
     "text": [
      "200\n",
      "{'coord': {'lon': -74.006, 'lat': 40.7143}, 'weather': [{'id': 800, 'main': 'Clear', 'description': 'clear sky', 'icon': '01n'}], 'base': 'stations', 'main': {'temp': 47.62, 'feels_like': 44.37, 'temp_min': 44.96, 'temp_max': 50.56, 'pressure': 1016, 'humidity': 72, 'sea_level': 1016, 'grnd_level': 1015}, 'visibility': 10000, 'wind': {'speed': 6.91, 'deg': 120}, 'clouds': {'all': 0}, 'dt': 1742435409, 'sys': {'type': 1, 'id': 4610, 'country': 'US', 'sunrise': 1742382043, 'sunset': 1742425602}, 'timezone': -14400, 'id': 5128581, 'name': 'New York', 'cod': 200}\n"
     ]
    }
   ],
   "source": [
    "import requests \n",
    "import json\n",
    "from pprint import pprint\n",
    "import os\n",
    "\n",
    "# from api_keys import weather_api_key    # import the api key from api_keys.py\n",
    "\n",
    "test_api_key = \"6bd502b1c1153abfc05a5d610f88f638\" #This is currently key #2\n",
    "\n",
    "test_city = \"New York\"\n",
    "test_url = f\"http://api.openweathermap.org/data/2.5/weather?q={test_city}&appid={test_api_key}&units=imperial\"\n",
    "\n",
    "test_response = requests.get(test_url)\n",
    "\n",
    "print(test_response.status_code)\n",
    "print(test_response.json())\n"
   ]
  },
  {
   "cell_type": "code",
   "execution_count": null,
   "metadata": {},
   "outputs": [],
   "source": []
  },
  {
   "cell_type": "code",
   "execution_count": null,
   "metadata": {},
   "outputs": [],
   "source": []
  }
 ],
 "metadata": {
  "kernelspec": {
   "display_name": "base",
   "language": "python",
   "name": "python3"
  },
  "language_info": {
   "codemirror_mode": {
    "name": "ipython",
    "version": 3
   },
   "file_extension": ".py",
   "mimetype": "text/x-python",
   "name": "python",
   "nbconvert_exporter": "python",
   "pygments_lexer": "ipython3",
   "version": "3.12.7"
  }
 },
 "nbformat": 4,
 "nbformat_minor": 2
}
